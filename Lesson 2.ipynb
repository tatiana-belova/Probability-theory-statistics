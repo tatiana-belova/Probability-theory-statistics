{
 "cells": [
  {
   "cell_type": "markdown",
   "metadata": {},
   "source": [
    "# Урок 2"
   ]
  },
  {
   "cell_type": "code",
   "execution_count": 95,
   "metadata": {},
   "outputs": [],
   "source": [
    "from math import factorial, exp\n",
    "\n",
    "def combinations(k, n):\n",
    "    return int(factorial(n) / (factorial(k) * factorial(n - k)))\n",
    "\n",
    "def bernulli(k, n, p):\n",
    "    return combinations(k,n) * p**k * (1-p)**(n-k)\n",
    "\n",
    "def puasson_formula(n, p, m):\n",
    "    lambda_p = n*p\n",
    "    puasson = (lambda_p**m/factorial(m)) * exp(-lambda_p)\n",
    "    return puasson"
   ]
  },
  {
   "cell_type": "markdown",
   "metadata": {},
   "source": [
    "## №1\n",
    "Вероятность того, что стрелок попадет в мишень, выстрелив один раз, равна 0.8. Стрелок выстрелил 100 раз. Найдите вероятность того, что стрелок попадет в цель ровно 85 раз."
   ]
  },
  {
   "cell_type": "markdown",
   "metadata": {},
   "source": [
    "Формула Бернулли $P_n(X=k) = C_n^k p^k q^{n-k}$\n",
    "\n",
    "n = 100\n",
    "\n",
    "k = 85\n",
    "\n",
    "p = 0.8"
   ]
  },
  {
   "cell_type": "markdown",
   "metadata": {},
   "source": [
    "$P_{k=85} = C_{100}^{85} \\cdot 0.8^{85} \\cdot 0.2^{15} \\approx 0.048 \\approx 4.8$%"
   ]
  },
  {
   "cell_type": "code",
   "execution_count": 96,
   "metadata": {},
   "outputs": [
    {
     "data": {
      "text/plain": [
       "0.048061793700746355"
      ]
     },
     "execution_count": 96,
     "metadata": {},
     "output_type": "execute_result"
    }
   ],
   "source": [
    "bernulli(85, 100, 0.8)"
   ]
  },
  {
   "cell_type": "markdown",
   "metadata": {},
   "source": [
    "## №2"
   ]
  },
  {
   "cell_type": "markdown",
   "metadata": {},
   "source": [
    "Вероятность того, что лампочка перегорит в течение первого дня эксплуатации, равна 0.0004. В жилом комплексе после ремонта в один день включили 5000 новых лампочек. \n",
    "\n",
    "Какова вероятность, что ни одна из них не перегорит в первый день?"
   ]
  },
  {
   "cell_type": "markdown",
   "metadata": {},
   "source": [
    "По формуле Пуассона $P_m \\approx \\frac{\\lambda^m}{m!}e^{-\\lambda}$\n",
    "\n",
    "$n = 5000$\n",
    "\n",
    "$m = 0$\n",
    "\n",
    "$p = 0.0004$\n",
    "\n",
    "$λ = np = 5000*0.0004 = 2$"
   ]
  },
  {
   "cell_type": "markdown",
   "metadata": {},
   "source": [
    "$P_0 \\approx \\frac{2^0}{0!}2.71^{-2} \\approx 13.6$%"
   ]
  },
  {
   "cell_type": "code",
   "execution_count": 97,
   "metadata": {
    "scrolled": true
   },
   "outputs": [
    {
     "data": {
      "text/plain": [
       "0.1353352832366127"
      ]
     },
     "execution_count": 97,
     "metadata": {},
     "output_type": "execute_result"
    }
   ],
   "source": [
    "puasson_formula(5000, 0.0004, 0)"
   ]
  },
  {
   "cell_type": "markdown",
   "metadata": {},
   "source": [
    "По формуле Бернулли $P_n(X=k) = C_n^k p^k q^{n-k}$\n",
    "\n",
    "$k = 0$\n",
    "\n",
    "$n = 5000$\n",
    "\n",
    "$p = 0.0004$"
   ]
  },
  {
   "cell_type": "markdown",
   "metadata": {},
   "source": [
    "$P_{k=0} = C_{5000}^{0} \\cdot 0.0004^{0} \\cdot (1-0.0004)^{5000} \\approx 0.135 \\approx 13.5$%"
   ]
  },
  {
   "cell_type": "code",
   "execution_count": 98,
   "metadata": {
    "scrolled": true
   },
   "outputs": [
    {
     "data": {
      "text/plain": [
       "0.13528114551440706"
      ]
     },
     "execution_count": 98,
     "metadata": {},
     "output_type": "execute_result"
    }
   ],
   "source": [
    "bernulli(0, 5000, 0.0004)"
   ]
  },
  {
   "cell_type": "markdown",
   "metadata": {},
   "source": [
    "б) Какова вероятность, что перегорят ровно две?"
   ]
  },
  {
   "cell_type": "markdown",
   "metadata": {},
   "source": [
    "По формуле Пуассона $P_m \\approx \\frac{\\lambda^m}{m!}e^{-\\lambda}$\n",
    "\n",
    "$n = 5000$\n",
    "\n",
    "$m = 2$\n",
    "\n",
    "$p = 0.0004$\n",
    "\n",
    "$λ = np = 5000*0.0004 = 2$"
   ]
  },
  {
   "cell_type": "markdown",
   "metadata": {},
   "source": [
    "$P_2 \\approx \\frac{2^2}{2!}2.71^{-2} \\approx 27.2$%"
   ]
  },
  {
   "cell_type": "code",
   "execution_count": 99,
   "metadata": {
    "scrolled": true
   },
   "outputs": [
    {
     "data": {
      "text/plain": [
       "0.2706705664732254"
      ]
     },
     "execution_count": 99,
     "metadata": {},
     "output_type": "execute_result"
    }
   ],
   "source": [
    "puasson_formula(5000, 0.0004, 2)"
   ]
  },
  {
   "cell_type": "markdown",
   "metadata": {},
   "source": [
    "По формуле Бернулли $P_n(X=k) = C_n^k p^k q^{n-k}$\n",
    "\n",
    "$k = 2$\n",
    "\n",
    "$n = 5000$\n",
    "\n",
    "$p = 0.0004$ \n",
    "\n",
    "$P_{k=2} = C_{5000}^{2} \\cdot 0.0004^{2} \\cdot (1-0.0004)^{4998} \\approx 0.27 \\approx 27$%"
   ]
  },
  {
   "cell_type": "code",
   "execution_count": 100,
   "metadata": {
    "scrolled": false
   },
   "outputs": [
    {
     "data": {
      "text/plain": [
       "0.2707247150266753"
      ]
     },
     "execution_count": 100,
     "metadata": {},
     "output_type": "execute_result"
    }
   ],
   "source": [
    "bernulli(2,5000,0.0004)"
   ]
  },
  {
   "cell_type": "markdown",
   "metadata": {},
   "source": [
    "## №3\n",
    "Монету подбросили 144 раза. Какова вероятность, что орел выпадет ровно 70 раз?"
   ]
  },
  {
   "cell_type": "markdown",
   "metadata": {},
   "source": [
    "Формула Бернулли $P_n(X=k) = C_n^k p^k q^{n-k}$\n",
    "\n",
    "$k = 70$\n",
    "\n",
    "$n = 144$\n",
    "\n",
    "$p = 0.5$"
   ]
  },
  {
   "cell_type": "markdown",
   "metadata": {},
   "source": [
    "$P_{k=70} = C^{70}_{144} \\cdot 0.5^{70} \\cdot 0.5^{74} \\approx 0.0628 \\approx 6.28$%"
   ]
  },
  {
   "cell_type": "code",
   "execution_count": 101,
   "metadata": {
    "scrolled": true
   },
   "outputs": [
    {
     "data": {
      "text/plain": [
       "0.06281178035144776"
      ]
     },
     "execution_count": 101,
     "metadata": {},
     "output_type": "execute_result"
    }
   ],
   "source": [
    "bernulli(70, 144, 0.5)"
   ]
  },
  {
   "cell_type": "markdown",
   "metadata": {},
   "source": [
    "## №4\n",
    "В первом ящике находится 10 мячей, из которых 7 - белые. Во втором ящике - 11 мячей, из которых 9 белых. Из каждого ящика вытаскивают случайным образом по два мяча.\n",
    "\n",
    "Какова вероятность того, что все мячи белые?"
   ]
  },
  {
   "cell_type": "markdown",
   "metadata": {},
   "source": [
    "Вероятность того, что 2 вытащенных мяча из первого ящика будут белыми:\n",
    "\n",
    "$C^{2}_{7} = \\frac{7!}{2!(7 - 2)!} = 21$\n",
    "\n",
    "$C^{2}_{10} = \\frac{10!}{2!(10 - 2)!} = 45$\n",
    "\n",
    "$\\frac{21}{45} \\approx 0.47 \\approx 47\\% $"
   ]
  },
  {
   "cell_type": "code",
   "execution_count": 102,
   "metadata": {},
   "outputs": [
    {
     "data": {
      "text/plain": [
       "0.4666666666666667"
      ]
     },
     "execution_count": 102,
     "metadata": {},
     "output_type": "execute_result"
    }
   ],
   "source": [
    "x1 = combinations(2, 7) / combinations(2, 10)\n",
    "x1"
   ]
  },
  {
   "cell_type": "markdown",
   "metadata": {},
   "source": [
    "Вероятность того, что 2 вытащенных мяча из второго ящика будут белыми:\n",
    "\n",
    "$C^{2}_{9} = \\frac{9!}{2!(9 - 2)!} = 36$\n",
    "\n",
    "$C^{2}_{11} = \\frac{11!}{2!(11 - 2)!} = 55$\n",
    "\n",
    "$\\frac{36}{55} \\approx 0.65 \\approx 65\\% $"
   ]
  },
  {
   "cell_type": "code",
   "execution_count": 103,
   "metadata": {},
   "outputs": [
    {
     "data": {
      "text/plain": [
       "0.6545454545454545"
      ]
     },
     "execution_count": 103,
     "metadata": {},
     "output_type": "execute_result"
    }
   ],
   "source": [
    "x2 = combinations(2, 9) / combinations(2, 11)\n",
    "x2"
   ]
  },
  {
   "cell_type": "markdown",
   "metadata": {},
   "source": [
    "Вероятность того что все мячи будут белые \n",
    "\n",
    "$0.47*0.65 = 0.3055 = 30.5\\%$"
   ]
  },
  {
   "cell_type": "code",
   "execution_count": 104,
   "metadata": {},
   "outputs": [
    {
     "data": {
      "text/plain": [
       "0.3054545454545455"
      ]
     },
     "execution_count": 104,
     "metadata": {},
     "output_type": "execute_result"
    }
   ],
   "source": [
    "X = x1 * x2\n",
    "X"
   ]
  },
  {
   "cell_type": "markdown",
   "metadata": {},
   "source": [
    "Какова вероятность того, что ровно два мяча белые?"
   ]
  },
  {
   "cell_type": "markdown",
   "metadata": {},
   "source": [
    "Два белых мяча из первого ящика"
   ]
  },
  {
   "cell_type": "code",
   "execution_count": 105,
   "metadata": {},
   "outputs": [
    {
     "data": {
      "text/plain": [
       "0.008484848484848484"
      ]
     },
     "execution_count": 105,
     "metadata": {},
     "output_type": "execute_result"
    }
   ],
   "source": [
    "y1 = (combinations(2,7) / combinations(2,10)) * (combinations(2,2) / combinations(2,11))\n",
    "y1"
   ]
  },
  {
   "cell_type": "markdown",
   "metadata": {},
   "source": [
    "Вероятность того, что оба белых мяча из первого ящика = **0.8%**"
   ]
  },
  {
   "cell_type": "markdown",
   "metadata": {},
   "source": [
    "Два белых мяча из второго ящика"
   ]
  },
  {
   "cell_type": "code",
   "execution_count": 106,
   "metadata": {},
   "outputs": [
    {
     "data": {
      "text/plain": [
       "0.04363636363636363"
      ]
     },
     "execution_count": 106,
     "metadata": {},
     "output_type": "execute_result"
    }
   ],
   "source": [
    "y2 = (combinations(2,3) / combinations(2,10)) * (combinations(2,9) / combinations(2,11))\n",
    "y2"
   ]
  },
  {
   "cell_type": "markdown",
   "metadata": {},
   "source": [
    "Вероятность того, что оба белых мяча из второго ящика = **4.3%**"
   ]
  },
  {
   "cell_type": "markdown",
   "metadata": {},
   "source": [
    "Один белый мяч из первого ящика и один белый мяч из второго ящика"
   ]
  },
  {
   "cell_type": "code",
   "execution_count": 107,
   "metadata": {},
   "outputs": [
    {
     "data": {
      "text/plain": [
       "0.15272727272727274"
      ]
     },
     "execution_count": 107,
     "metadata": {},
     "output_type": "execute_result"
    }
   ],
   "source": [
    "y3 = (combinations(1,7)*combinations(1,3) / combinations(2,10)) * (combinations(1,9)*combinations(1,2) / combinations(2,11))\n",
    "y3"
   ]
  },
  {
   "cell_type": "markdown",
   "metadata": {},
   "source": [
    "Вероятность того, что один белый мяч из первого ящика и один белый мяч из второго ящика = **15.3%**"
   ]
  },
  {
   "cell_type": "code",
   "execution_count": 108,
   "metadata": {},
   "outputs": [
    {
     "data": {
      "text/plain": [
       "0.20484848484848486"
      ]
     },
     "execution_count": 108,
     "metadata": {},
     "output_type": "execute_result"
    }
   ],
   "source": [
    "Y = y1 + y2 + y3\n",
    "Y"
   ]
  },
  {
   "cell_type": "markdown",
   "metadata": {},
   "source": [
    "вероятность того, что ровно два мяча белые = **20.4%**"
   ]
  },
  {
   "cell_type": "markdown",
   "metadata": {},
   "source": [
    "Какова вероятность того, что хотя бы один мяч белый?"
   ]
  },
  {
   "cell_type": "code",
   "execution_count": 109,
   "metadata": {},
   "outputs": [
    {
     "data": {
      "text/plain": [
       "0.9987878787878788"
      ]
     },
     "execution_count": 109,
     "metadata": {},
     "output_type": "execute_result"
    }
   ],
   "source": [
    "z1 = (combinations(2,3) / combinations(2,10)) * (combinations(2,2) / combinations(2,11))\n",
    "1 - z1"
   ]
  },
  {
   "cell_type": "markdown",
   "metadata": {},
   "source": [
    "Вероятность того, что хотя бы один мяч белый =  **99.8%**"
   ]
  }
 ],
 "metadata": {
  "kernelspec": {
   "display_name": "Python 3",
   "language": "python",
   "name": "python3"
  },
  "language_info": {
   "codemirror_mode": {
    "name": "ipython",
    "version": 3
   },
   "file_extension": ".py",
   "mimetype": "text/x-python",
   "name": "python",
   "nbconvert_exporter": "python",
   "pygments_lexer": "ipython3",
   "version": "3.9.1"
  }
 },
 "nbformat": 4,
 "nbformat_minor": 4
}
