{
 "cells": [
  {
   "cell_type": "code",
   "execution_count": 105,
   "metadata": {},
   "outputs": [],
   "source": [
    "import numpy as np\n",
    "from math import sqrt\n",
    "import scipy.stats as stats"
   ]
  },
  {
   "cell_type": "markdown",
   "metadata": {},
   "source": [
    "# Урок 5"
   ]
  },
  {
   "cell_type": "markdown",
   "metadata": {},
   "source": [
    "## №1\n",
    "Известно, что генеральная совокупность распределена нормально со средним квадратическим отклонением, равным 16. Найти доверительный интервал для оценки математического ожидания с надежностью 0.95, если выборочная средняя M = 80, а объем выборки n = 256."
   ]
  },
  {
   "cell_type": "markdown",
   "metadata": {},
   "source": [
    "$T_{1,2} = \\overline{X} \\pm Z_{\\frac{a}{2}} \\cdot \\frac{\\sigma}{\\sqrt{n}}$"
   ]
  },
  {
   "cell_type": "markdown",
   "metadata": {},
   "source": [
    "$T_{1,2} = \\overline{X} \\pm Z_{\\frac{0.05}{2}} \\cdot \\frac{16}{\\sqrt{256}}$"
   ]
  },
  {
   "cell_type": "markdown",
   "metadata": {},
   "source": [
    "$T_{1,2} = \\overline{X} \\pm 1.96$"
   ]
  },
  {
   "cell_type": "markdown",
   "metadata": {},
   "source": [
    "$T_1 = 80 + 1.96 = 81.96$\n",
    "\n",
    "$T_2 = 80 - 1.96 = 78.04$"
   ]
  },
  {
   "cell_type": "markdown",
   "metadata": {},
   "source": [
    "Проверка:"
   ]
  },
  {
   "cell_type": "code",
   "execution_count": 106,
   "metadata": {},
   "outputs": [],
   "source": [
    "def z(q):\n",
    "    return stats.norm.ppf(q)"
   ]
  },
  {
   "cell_type": "code",
   "execution_count": 107,
   "metadata": {},
   "outputs": [
    {
     "data": {
      "text/plain": [
       "1.959963984540054"
      ]
     },
     "execution_count": 107,
     "metadata": {},
     "output_type": "execute_result"
    }
   ],
   "source": [
    "z(1 - 0.05 / 2)"
   ]
  },
  {
   "cell_type": "code",
   "execution_count": 108,
   "metadata": {},
   "outputs": [],
   "source": [
    "def CI(mean, std, n, alpha, ppf):\n",
    "    T1 = mean + std/sqrt(n)*ppf(1-alpha/2)\n",
    "    T2 = mean - std/sqrt(n)*ppf(1-alpha/2)\n",
    "    return (T1, T2)"
   ]
  },
  {
   "cell_type": "code",
   "execution_count": 109,
   "metadata": {},
   "outputs": [
    {
     "data": {
      "text/plain": [
       "(81.95996398454005, 78.04003601545995)"
      ]
     },
     "execution_count": 109,
     "metadata": {},
     "output_type": "execute_result"
    }
   ],
   "source": [
    "CI(80, 16, 256, 0.05, z)"
   ]
  },
  {
   "cell_type": "markdown",
   "metadata": {},
   "source": [
    "## №2\n",
    "В результате 10 независимых измерений некоторой величины X, выполненных с одинаковой точностью, получены опытные данные: 6.9, 6.1, 6.2, 6.8, 7.5, 6.3, 6.4, 6.9, 6.7, 6.1. Предполагая, что результаты измерений подчинены нормальному закону распределения вероятностей, оценить истинное значение величины X при помощи доверительного интервала, покрывающего это значение с доверительной вероятностью 0,95."
   ]
  },
  {
   "cell_type": "markdown",
   "metadata": {},
   "source": [
    "Проверка:"
   ]
  },
  {
   "cell_type": "markdown",
   "metadata": {},
   "source": [
    "$ \\left( \\overline{X} + t^n_{1-\\frac{\\alpha}{2}} \\frac{\\sigma_X}{\\sqrt{n}},\n",
    "          \\overline{X} - t^n_{1-\\frac{\\alpha}{2}} \\frac{\\sigma_X}{\\sqrt{n}}\n",
    "   \\right) $\n",
    "   \n",
    "$\\frac{\\alpha}{2} = \\frac{1 - 0.95}{2} = 0.025 \\Rightarrow t_{\\alpha /2} = 2.262$\n",
    "\n",
    "$\\overline{X} = \\frac{6.9 + 6.1 + 6.2 + 6.8 + 7.5 + 6.3 + 6.4 + 6.9 + 6.7 + 6.1}{10} = 6.59$\n",
    "\n",
    "$\\sigma_X = \\sqrt{\\frac{\\displaystyle\\sum_{i=1}^{n} (x_i - \\overline{x})}{n-1}}$\n",
    "\n",
    "$\\sigma_X = \\sqrt{\\frac{(6.9 - 6.59)^2 + (6.1 - 6.59)^2 + (6.2 - 6.59)^2 + (6.8 - 6.59)^2 + (7.5 - 6.59)^2 + (6.3 - 6.59)^2 + (6.4 - 6.59)^2 + (6.9 - 6.59)^2 + (6.7 - 6.59)^2 + (6.1 - 6.59)^2}{10 - 1}} = 0.451$\n",
    "\n",
    "$T1 = 6.59 + 2.262 \\cdot \\frac{0.451}{\\sqrt{10}} \\approx 6.9$\n",
    "\n",
    "$T2 = 6.59 - 2.262 \\cdot \\frac{0.451}{\\sqrt{10}} \\approx 6.27 $"
   ]
  },
  {
   "cell_type": "code",
   "execution_count": 110,
   "metadata": {},
   "outputs": [],
   "source": [
    "def t(q):\n",
    "    return stats.norm.ppf(q)"
   ]
  },
  {
   "cell_type": "code",
   "execution_count": 111,
   "metadata": {},
   "outputs": [],
   "source": [
    "data = [6.9, 6.1, 6.2, 6.8, 7.5, 6.3, 6.4, 6.9, 6.7, 6.1]"
   ]
  },
  {
   "cell_type": "code",
   "execution_count": 112,
   "metadata": {},
   "outputs": [
    {
     "data": {
      "text/plain": [
       "10"
      ]
     },
     "execution_count": 112,
     "metadata": {},
     "output_type": "execute_result"
    }
   ],
   "source": [
    "x = len(data)\n",
    "x"
   ]
  },
  {
   "cell_type": "code",
   "execution_count": 113,
   "metadata": {},
   "outputs": [
    {
     "data": {
      "text/plain": [
       "6.590000000000001"
      ]
     },
     "execution_count": 113,
     "metadata": {},
     "output_type": "execute_result"
    }
   ],
   "source": [
    "mean = np.mean(data)\n",
    "mean"
   ]
  },
  {
   "cell_type": "code",
   "execution_count": 114,
   "metadata": {},
   "outputs": [
    {
     "data": {
      "text/plain": [
       "0.95"
      ]
     },
     "execution_count": 114,
     "metadata": {},
     "output_type": "execute_result"
    }
   ],
   "source": [
    "p = 0.95\n",
    "p"
   ]
  },
  {
   "cell_type": "code",
   "execution_count": 115,
   "metadata": {},
   "outputs": [
    {
     "data": {
      "text/plain": [
       "0.050000000000000044"
      ]
     },
     "execution_count": 115,
     "metadata": {},
     "output_type": "execute_result"
    }
   ],
   "source": [
    "alpha = 1 - p\n",
    "alpha"
   ]
  },
  {
   "cell_type": "code",
   "execution_count": 116,
   "metadata": {},
   "outputs": [
    {
     "data": {
      "text/plain": [
       "0.4508017549014448"
      ]
     },
     "execution_count": 116,
     "metadata": {},
     "output_type": "execute_result"
    }
   ],
   "source": [
    "sigma = np.std(data, ddof=1) # несмещенная оценка\n",
    "sigma"
   ]
  },
  {
   "cell_type": "code",
   "execution_count": 117,
   "metadata": {},
   "outputs": [
    {
     "data": {
      "text/plain": [
       "(6.868907764537052, 6.311092235462947)"
      ]
     },
     "execution_count": 117,
     "metadata": {},
     "output_type": "execute_result"
    }
   ],
   "source": [
    "CI(6.59, 0.45, 10, 0.05, t)"
   ]
  },
  {
   "cell_type": "markdown",
   "metadata": {},
   "source": [
    "## №3\n",
    "Утверждается, что шарики для подшипников, изготовленные автоматическим станком, имеют средний диаметр 17 мм. Используя односторонний критерий с α=0,05, проверить эту гипотезу, если в выборке из n=100 шариков средний диаметр оказался равным 17.5 мм, а дисперсия известна и равна 4 кв.мм."
   ]
  },
  {
   "cell_type": "markdown",
   "metadata": {},
   "source": [
    "$H_0 \\quad \\mu = \\mu_0$\n",
    "\n",
    "$H_1 \\quad \\mu > \\mu_0$\n",
    "\n",
    "$Z_H = \\frac{\\overline{X} - \\mu_0}{\\sigma} \\cdot \\sqrt{n}$\n",
    "\n",
    "$\\alpha = 0.05$\n",
    "\n",
    "$Z = 1.654$\n",
    "\n",
    "$Z_H = \\frac{17.5 - 17}{2} \\cdot \\sqrt{100} = 2.5$\n",
    "\n",
    "$Z_H > Z \\quad \\Rightarrow \\text{верна гипотеза }H_1$"
   ]
  },
  {
   "cell_type": "code",
   "execution_count": 118,
   "metadata": {},
   "outputs": [],
   "source": [
    "Z = 1.645"
   ]
  },
  {
   "cell_type": "code",
   "execution_count": 119,
   "metadata": {},
   "outputs": [
    {
     "data": {
      "text/plain": [
       "2.5"
      ]
     },
     "execution_count": 119,
     "metadata": {},
     "output_type": "execute_result"
    }
   ],
   "source": [
    "ZH = 0.5/(2/100**0.5)\n",
    "ZH"
   ]
  },
  {
   "cell_type": "markdown",
   "metadata": {},
   "source": [
    "$Z_H > Z \\quad \\Rightarrow \\text{верна гипотеза }H_1$"
   ]
  },
  {
   "cell_type": "markdown",
   "metadata": {},
   "source": [
    "## №4\n",
    "Продавец утверждает, что средний вес пачки печенья составляет 200 г. Из партии извлечена выборка из 10 пачек.\n",
    "Вес каждой пачки составляет: 202, 203, 199, 197, 195, 201, 200, 204, 194, 190. Известно, что их веса распределены нормально.\n",
    "Верно ли утверждение продавца, если учитывать, что доверительная вероятность равна 99%?"
   ]
  },
  {
   "cell_type": "markdown",
   "metadata": {},
   "source": [
    "$H_0 - средний \\quad  вес \\quad  пачки - 200 \\quad г.$\n",
    "\n",
    "$H_1 - средний \\quad  вес \\quad  пачки \\quad не \\quad 200 \\quad г.$\n",
    "\n",
    "$a = 0.01$\n",
    "\n",
    "$Z = \\pm 3.25$"
   ]
  },
  {
   "cell_type": "markdown",
   "metadata": {},
   "source": [
    "$\\mu_0 = 200$\n",
    "\n",
    "$\\overline{X} = \\frac{202 + 203 + 199 + 197 + 195 + 201 + 200 + 204 + 194 + 190}{10} = 198.5$\n",
    "\n",
    "$\\sigma_X = \\sqrt{ \\frac{(202 - 198.5)^2 + (203 - 198.5)^2 + (199 - 198.5)^2 + (197 - 198.5)^2 + (195 - 198.5)^2 + (201 - 198.5)^2 + (200 - 198.5)^2 + (204 - 198.5)^2 + (194 - 198.5)^2 + (190 - 198.5)^2}{10-1} } = 4.45346$\n",
    "\n",
    "$H_0 - средний \\quad  вес \\quad  пачки - 200 \\quad г. \\quad (\\mu = \\mu_0)$\n",
    "\n",
    "$H_1 - средний \\quad  вес \\quad  пачки \\quad не \\quad 200 \\quad г. \\quad (\\mu \\neq \\mu_0)$\n",
    "\n",
    "$\\alpha = 0.01 \\Rightarrow T_{\\alpha/2}  = -3.25$$\n",
    "\n",
    "$T_H = \\frac{\\overline{X} - \\mu_0}{\\sigma} \\cdot \\sqrt{n}$\n",
    "\n",
    "$T_H = \\frac{198.5 - 200}{4.45346} \\cdot \\sqrt{10} = −1.065$\n",
    "\n",
    "$T = - 3.250 $\n",
    "\n",
    "$-3.250 < T_H \\Rightarrow \\text{верна гипотеза }H_0$"
   ]
  },
  {
   "cell_type": "code",
   "execution_count": 120,
   "metadata": {},
   "outputs": [],
   "source": [
    "data4 = [202, 203, 199, 197, 195, 201, 200, 204, 194, 190]"
   ]
  },
  {
   "cell_type": "code",
   "execution_count": 121,
   "metadata": {},
   "outputs": [
    {
     "data": {
      "text/plain": [
       "198.5"
      ]
     },
     "execution_count": 121,
     "metadata": {},
     "output_type": "execute_result"
    }
   ],
   "source": [
    "np.mean(data4)"
   ]
  },
  {
   "cell_type": "code",
   "execution_count": 122,
   "metadata": {},
   "outputs": [
    {
     "data": {
      "text/plain": [
       "4.453463071962462"
      ]
     },
     "execution_count": 122,
     "metadata": {},
     "output_type": "execute_result"
    }
   ],
   "source": [
    "std1 = np.std(data4, ddof=1)\n",
    "std1"
   ]
  },
  {
   "cell_type": "code",
   "execution_count": 123,
   "metadata": {},
   "outputs": [],
   "source": [
    "T = -3.250"
   ]
  },
  {
   "cell_type": "code",
   "execution_count": 124,
   "metadata": {},
   "outputs": [
    {
     "data": {
      "text/plain": [
       "-1.0651074037450896"
      ]
     },
     "execution_count": 124,
     "metadata": {},
     "output_type": "execute_result"
    }
   ],
   "source": [
    "TH = (198.5-200)/(std1/10**0.5)\n",
    "TH"
   ]
  },
  {
   "cell_type": "markdown",
   "metadata": {},
   "source": [
    "$T < T_H \\Rightarrow \\text{верна гипотеза }H_0$"
   ]
  }
 ],
 "metadata": {
  "kernelspec": {
   "display_name": "Python 3",
   "language": "python",
   "name": "python3"
  },
  "language_info": {
   "codemirror_mode": {
    "name": "ipython",
    "version": 3
   },
   "file_extension": ".py",
   "mimetype": "text/x-python",
   "name": "python",
   "nbconvert_exporter": "python",
   "pygments_lexer": "ipython3",
   "version": "3.9.1"
  }
 },
 "nbformat": 4,
 "nbformat_minor": 4
}
